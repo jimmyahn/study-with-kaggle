{
 "cells": [
  {
   "cell_type": "code",
   "execution_count": 1,
   "metadata": {},
   "outputs": [],
   "source": [
    "import numpy as np\n",
    "import matplotlib.pyplot as plt\n",
    "from sklearn.decomposition import PCA\n",
    "from sklearn import *"
   ]
  },
  {
   "cell_type": "code",
   "execution_count": 2,
   "metadata": {},
   "outputs": [],
   "source": [
    "import pandas as pd\n",
    "\n",
    "test = pd.read_csv('test.csv', delimiter = ',')\n",
    "train = pd.read_csv('train.csv', delimiter = ',')\n"
   ]
  },
  {
   "cell_type": "code",
   "execution_count": 3,
   "metadata": {},
   "outputs": [
    {
     "name": "stdout",
     "output_type": "stream",
     "text": [
      "<class 'pandas.core.frame.DataFrame'>\n",
      "RangeIndex: 891 entries, 0 to 890\n",
      "Data columns (total 12 columns):\n",
      "PassengerId    891 non-null int64\n",
      "Survived       891 non-null int64\n",
      "Pclass         891 non-null int64\n",
      "Name           891 non-null object\n",
      "Sex            891 non-null object\n",
      "Age            714 non-null float64\n",
      "SibSp          891 non-null int64\n",
      "Parch          891 non-null int64\n",
      "Ticket         891 non-null object\n",
      "Fare           891 non-null float64\n",
      "Cabin          204 non-null object\n",
      "Embarked       889 non-null object\n",
      "dtypes: float64(2), int64(5), object(5)\n",
      "memory usage: 83.6+ KB\n"
     ]
    }
   ],
   "source": [
    "train.info()"
   ]
  },
  {
   "cell_type": "code",
   "execution_count": 4,
   "metadata": {},
   "outputs": [
    {
     "data": {
      "text/plain": [
       "PassengerId      0\n",
       "Survived         0\n",
       "Pclass           0\n",
       "Name             0\n",
       "Sex              0\n",
       "Age            177\n",
       "SibSp            0\n",
       "Parch            0\n",
       "Ticket           0\n",
       "Fare             0\n",
       "Cabin          687\n",
       "Embarked         2\n",
       "dtype: int64"
      ]
     },
     "execution_count": 4,
     "metadata": {},
     "output_type": "execute_result"
    }
   ],
   "source": [
    "train.isnull().sum()"
   ]
  },
  {
   "cell_type": "code",
   "execution_count": 5,
   "metadata": {},
   "outputs": [
    {
     "data": {
      "text/html": [
       "<div>\n",
       "<style scoped>\n",
       "    .dataframe tbody tr th:only-of-type {\n",
       "        vertical-align: middle;\n",
       "    }\n",
       "\n",
       "    .dataframe tbody tr th {\n",
       "        vertical-align: top;\n",
       "    }\n",
       "\n",
       "    .dataframe thead th {\n",
       "        text-align: right;\n",
       "    }\n",
       "</style>\n",
       "<table border=\"1\" class=\"dataframe\">\n",
       "  <thead>\n",
       "    <tr style=\"text-align: right;\">\n",
       "      <th></th>\n",
       "      <th>PassengerId</th>\n",
       "      <th>Survived</th>\n",
       "      <th>Pclass</th>\n",
       "      <th>Name</th>\n",
       "      <th>Sex</th>\n",
       "      <th>Age</th>\n",
       "      <th>SibSp</th>\n",
       "      <th>Parch</th>\n",
       "      <th>Ticket</th>\n",
       "      <th>Fare</th>\n",
       "      <th>Cabin</th>\n",
       "      <th>Embarked</th>\n",
       "    </tr>\n",
       "  </thead>\n",
       "  <tbody>\n",
       "    <tr>\n",
       "      <th>0</th>\n",
       "      <td>1</td>\n",
       "      <td>0</td>\n",
       "      <td>3</td>\n",
       "      <td>Braund, Mr. Owen Harris</td>\n",
       "      <td>male</td>\n",
       "      <td>22.0</td>\n",
       "      <td>1</td>\n",
       "      <td>0</td>\n",
       "      <td>A/5 21171</td>\n",
       "      <td>7.2500</td>\n",
       "      <td>NaN</td>\n",
       "      <td>S</td>\n",
       "    </tr>\n",
       "    <tr>\n",
       "      <th>1</th>\n",
       "      <td>2</td>\n",
       "      <td>1</td>\n",
       "      <td>1</td>\n",
       "      <td>Cumings, Mrs. John Bradley (Florence Briggs Th...</td>\n",
       "      <td>female</td>\n",
       "      <td>38.0</td>\n",
       "      <td>1</td>\n",
       "      <td>0</td>\n",
       "      <td>PC 17599</td>\n",
       "      <td>71.2833</td>\n",
       "      <td>C85</td>\n",
       "      <td>C</td>\n",
       "    </tr>\n",
       "    <tr>\n",
       "      <th>2</th>\n",
       "      <td>3</td>\n",
       "      <td>1</td>\n",
       "      <td>3</td>\n",
       "      <td>Heikkinen, Miss. Laina</td>\n",
       "      <td>female</td>\n",
       "      <td>26.0</td>\n",
       "      <td>0</td>\n",
       "      <td>0</td>\n",
       "      <td>STON/O2. 3101282</td>\n",
       "      <td>7.9250</td>\n",
       "      <td>NaN</td>\n",
       "      <td>S</td>\n",
       "    </tr>\n",
       "    <tr>\n",
       "      <th>3</th>\n",
       "      <td>4</td>\n",
       "      <td>1</td>\n",
       "      <td>1</td>\n",
       "      <td>Futrelle, Mrs. Jacques Heath (Lily May Peel)</td>\n",
       "      <td>female</td>\n",
       "      <td>35.0</td>\n",
       "      <td>1</td>\n",
       "      <td>0</td>\n",
       "      <td>113803</td>\n",
       "      <td>53.1000</td>\n",
       "      <td>C123</td>\n",
       "      <td>S</td>\n",
       "    </tr>\n",
       "    <tr>\n",
       "      <th>4</th>\n",
       "      <td>5</td>\n",
       "      <td>0</td>\n",
       "      <td>3</td>\n",
       "      <td>Allen, Mr. William Henry</td>\n",
       "      <td>male</td>\n",
       "      <td>35.0</td>\n",
       "      <td>0</td>\n",
       "      <td>0</td>\n",
       "      <td>373450</td>\n",
       "      <td>8.0500</td>\n",
       "      <td>NaN</td>\n",
       "      <td>S</td>\n",
       "    </tr>\n",
       "  </tbody>\n",
       "</table>\n",
       "</div>"
      ],
      "text/plain": [
       "   PassengerId  Survived  Pclass  \\\n",
       "0            1         0       3   \n",
       "1            2         1       1   \n",
       "2            3         1       3   \n",
       "3            4         1       1   \n",
       "4            5         0       3   \n",
       "\n",
       "                                                Name     Sex   Age  SibSp  \\\n",
       "0                            Braund, Mr. Owen Harris    male  22.0      1   \n",
       "1  Cumings, Mrs. John Bradley (Florence Briggs Th...  female  38.0      1   \n",
       "2                             Heikkinen, Miss. Laina  female  26.0      0   \n",
       "3       Futrelle, Mrs. Jacques Heath (Lily May Peel)  female  35.0      1   \n",
       "4                           Allen, Mr. William Henry    male  35.0      0   \n",
       "\n",
       "   Parch            Ticket     Fare Cabin Embarked  \n",
       "0      0         A/5 21171   7.2500   NaN        S  \n",
       "1      0          PC 17599  71.2833   C85        C  \n",
       "2      0  STON/O2. 3101282   7.9250   NaN        S  \n",
       "3      0            113803  53.1000  C123        S  \n",
       "4      0            373450   8.0500   NaN        S  "
      ]
     },
     "execution_count": 5,
     "metadata": {},
     "output_type": "execute_result"
    }
   ],
   "source": [
    "train.head()"
   ]
  },
  {
   "cell_type": "code",
   "execution_count": 6,
   "metadata": {},
   "outputs": [
    {
     "data": {
      "text/html": [
       "<div>\n",
       "<style scoped>\n",
       "    .dataframe tbody tr th:only-of-type {\n",
       "        vertical-align: middle;\n",
       "    }\n",
       "\n",
       "    .dataframe tbody tr th {\n",
       "        vertical-align: top;\n",
       "    }\n",
       "\n",
       "    .dataframe thead th {\n",
       "        text-align: right;\n",
       "    }\n",
       "</style>\n",
       "<table border=\"1\" class=\"dataframe\">\n",
       "  <thead>\n",
       "    <tr style=\"text-align: right;\">\n",
       "      <th></th>\n",
       "      <th>PassengerId</th>\n",
       "      <th>Survived</th>\n",
       "      <th>Pclass</th>\n",
       "      <th>Age</th>\n",
       "      <th>SibSp</th>\n",
       "      <th>Parch</th>\n",
       "      <th>Fare</th>\n",
       "    </tr>\n",
       "  </thead>\n",
       "  <tbody>\n",
       "    <tr>\n",
       "      <th>count</th>\n",
       "      <td>891.000000</td>\n",
       "      <td>891.000000</td>\n",
       "      <td>891.000000</td>\n",
       "      <td>714.000000</td>\n",
       "      <td>891.000000</td>\n",
       "      <td>891.000000</td>\n",
       "      <td>891.000000</td>\n",
       "    </tr>\n",
       "    <tr>\n",
       "      <th>mean</th>\n",
       "      <td>446.000000</td>\n",
       "      <td>0.383838</td>\n",
       "      <td>2.308642</td>\n",
       "      <td>29.699118</td>\n",
       "      <td>0.523008</td>\n",
       "      <td>0.381594</td>\n",
       "      <td>32.204208</td>\n",
       "    </tr>\n",
       "    <tr>\n",
       "      <th>std</th>\n",
       "      <td>257.353842</td>\n",
       "      <td>0.486592</td>\n",
       "      <td>0.836071</td>\n",
       "      <td>14.526497</td>\n",
       "      <td>1.102743</td>\n",
       "      <td>0.806057</td>\n",
       "      <td>49.693429</td>\n",
       "    </tr>\n",
       "    <tr>\n",
       "      <th>min</th>\n",
       "      <td>1.000000</td>\n",
       "      <td>0.000000</td>\n",
       "      <td>1.000000</td>\n",
       "      <td>0.420000</td>\n",
       "      <td>0.000000</td>\n",
       "      <td>0.000000</td>\n",
       "      <td>0.000000</td>\n",
       "    </tr>\n",
       "    <tr>\n",
       "      <th>25%</th>\n",
       "      <td>223.500000</td>\n",
       "      <td>0.000000</td>\n",
       "      <td>2.000000</td>\n",
       "      <td>20.125000</td>\n",
       "      <td>0.000000</td>\n",
       "      <td>0.000000</td>\n",
       "      <td>7.910400</td>\n",
       "    </tr>\n",
       "    <tr>\n",
       "      <th>50%</th>\n",
       "      <td>446.000000</td>\n",
       "      <td>0.000000</td>\n",
       "      <td>3.000000</td>\n",
       "      <td>28.000000</td>\n",
       "      <td>0.000000</td>\n",
       "      <td>0.000000</td>\n",
       "      <td>14.454200</td>\n",
       "    </tr>\n",
       "    <tr>\n",
       "      <th>75%</th>\n",
       "      <td>668.500000</td>\n",
       "      <td>1.000000</td>\n",
       "      <td>3.000000</td>\n",
       "      <td>38.000000</td>\n",
       "      <td>1.000000</td>\n",
       "      <td>0.000000</td>\n",
       "      <td>31.000000</td>\n",
       "    </tr>\n",
       "    <tr>\n",
       "      <th>max</th>\n",
       "      <td>891.000000</td>\n",
       "      <td>1.000000</td>\n",
       "      <td>3.000000</td>\n",
       "      <td>80.000000</td>\n",
       "      <td>8.000000</td>\n",
       "      <td>6.000000</td>\n",
       "      <td>512.329200</td>\n",
       "    </tr>\n",
       "  </tbody>\n",
       "</table>\n",
       "</div>"
      ],
      "text/plain": [
       "       PassengerId    Survived      Pclass         Age       SibSp  \\\n",
       "count   891.000000  891.000000  891.000000  714.000000  891.000000   \n",
       "mean    446.000000    0.383838    2.308642   29.699118    0.523008   \n",
       "std     257.353842    0.486592    0.836071   14.526497    1.102743   \n",
       "min       1.000000    0.000000    1.000000    0.420000    0.000000   \n",
       "25%     223.500000    0.000000    2.000000   20.125000    0.000000   \n",
       "50%     446.000000    0.000000    3.000000   28.000000    0.000000   \n",
       "75%     668.500000    1.000000    3.000000   38.000000    1.000000   \n",
       "max     891.000000    1.000000    3.000000   80.000000    8.000000   \n",
       "\n",
       "            Parch        Fare  \n",
       "count  891.000000  891.000000  \n",
       "mean     0.381594   32.204208  \n",
       "std      0.806057   49.693429  \n",
       "min      0.000000    0.000000  \n",
       "25%      0.000000    7.910400  \n",
       "50%      0.000000   14.454200  \n",
       "75%      0.000000   31.000000  \n",
       "max      6.000000  512.329200  "
      ]
     },
     "execution_count": 6,
     "metadata": {},
     "output_type": "execute_result"
    }
   ],
   "source": [
    "train.describe()"
   ]
  },
  {
   "cell_type": "code",
   "execution_count": 7,
   "metadata": {
    "scrolled": false
   },
   "outputs": [
    {
     "data": {
      "text/plain": [
       "0      male\n",
       "1    female\n",
       "2    female\n",
       "3    female\n",
       "4      male\n",
       "Name: Sex, dtype: object"
      ]
     },
     "execution_count": 7,
     "metadata": {},
     "output_type": "execute_result"
    }
   ],
   "source": [
    "train['Sex'].head()"
   ]
  },
  {
   "cell_type": "code",
   "execution_count": 8,
   "metadata": {
    "scrolled": true
   },
   "outputs": [],
   "source": [
    "a =train['Sex'].copy()\n",
    "b=[]\n",
    "for i in range(len(a)):\n",
    "    if a[i] == 'male':\n",
    "        b.append(0)\n",
    "    else:\n",
    "        b.append(1)\n"
   ]
  },
  {
   "cell_type": "code",
   "execution_count": 9,
   "metadata": {},
   "outputs": [
    {
     "data": {
      "text/plain": [
       "{'male': 577, 'female': 314}"
      ]
     },
     "execution_count": 9,
     "metadata": {},
     "output_type": "execute_result"
    }
   ],
   "source": [
    "train['Sex'].value_counts().to_dict()"
   ]
  },
  {
   "cell_type": "code",
   "execution_count": 10,
   "metadata": {},
   "outputs": [],
   "source": [
    "train['Sex_num'] = pd.DataFrame(b)"
   ]
  },
  {
   "cell_type": "code",
   "execution_count": 11,
   "metadata": {},
   "outputs": [],
   "source": [
    "# 속성들과 생존 상관관계 비교.\n",
    "pca = PCA(n_components =2 )\n",
    "x = train.loc[:,['Pclass', 'SibSp', 'Parch','Fare','Sex_num']]\n",
    "y = train['Survived']"
   ]
  },
  {
   "cell_type": "code",
   "execution_count": 12,
   "metadata": {},
   "outputs": [
    {
     "data": {
      "text/plain": [
       "array([[-0.00924606,  0.00354423,  0.00350817,  0.99994328,  0.0017541 ],\n",
       "       [ 0.19777239,  0.88335265,  0.42056336, -0.00288435,  0.06076446]])"
      ]
     },
     "execution_count": 12,
     "metadata": {},
     "output_type": "execute_result"
    }
   ],
   "source": [
    "pca.fit(x,y)\n",
    "pca.components_"
   ]
  },
  {
   "cell_type": "code",
   "execution_count": 13,
   "metadata": {},
   "outputs": [
    {
     "name": "stdout",
     "output_type": "stream",
     "text": [
      "\n"
     ]
    },
    {
     "data": {
      "image/png": "[encoded data removed]",
      "text/plain": [
       "<Figure size 720x288 with 2 Axes>"
      ]
     },
     "metadata": {
      "needs_background": "light"
     },
     "output_type": "display_data"
    }
   ],
   "source": [
    "plt.matshow(pca.components_, interpolation='none', cmap='autumn',\n",
    "            vmin=pca.components_.min(), vmax=pca.components_.max())\n",
    "plt.yticks([0,1],['PCA1','PCA2'])\n",
    "plt.colorbar()\n",
    "plt.xticks(range(5), x, rotation=60)\n",
    "print('')"
   ]
  },
  {
   "cell_type": "code",
   "execution_count": 14,
   "metadata": {},
   "outputs": [
    {
     "data": {
      "text/plain": [
       "array([[-0.97720802,  0.61569477],\n",
       "       [ 1.57098412, -1.09413876],\n",
       "       [-0.47862595,  0.31595963],\n",
       "       ...,\n",
       "       [ 1.17424952,  1.86069859],\n",
       "       [-0.0635533 , -1.47621387],\n",
       "       [-1.30525526,  0.13061189]])"
      ]
     },
     "execution_count": 14,
     "metadata": {},
     "output_type": "execute_result"
    }
   ],
   "source": [
    "#정규화\n",
    "x2 = (x - x.min(axis=0))/ x.std(axis=0)\n",
    "pca.fit(x2,y)\n",
    "pca.components_\n",
    "pca.transform(x2)"
   ]
  },
  {
   "cell_type": "code",
   "execution_count": 15,
   "metadata": {},
   "outputs": [
    {
     "name": "stdout",
     "output_type": "stream",
     "text": [
      "\n"
     ]
    },
    {
     "data": {
      "image/png": "[encoded data removed]",
      "text/plain": [
       "<Figure size 720x288 with 2 Axes>"
      ]
     },
     "metadata": {
      "needs_background": "light"
     },
     "output_type": "display_data"
    }
   ],
   "source": [
    "plt.matshow(pca.components_, interpolation='none', cmap='autumn',\n",
    "            vmin=pca.components_.min(), vmax=pca.components_.max())\n",
    "plt.yticks([0,1],['PCA1','PCA2'])\n",
    "plt.colorbar()\n",
    "plt.xticks(range(5), x, rotation=60)\n",
    "print('')"
   ]
  },
  {
   "cell_type": "code",
   "execution_count": 16,
   "metadata": {},
   "outputs": [],
   "source": [
    "a=train.Embarked.copy()\n",
    "b = a.value_counts().to_dict()"
   ]
  },
  {
   "cell_type": "code",
   "execution_count": 17,
   "metadata": {},
   "outputs": [
    {
     "data": {
      "text/plain": [
       "{'S': 644, 'C': 168, 'Q': 77}"
      ]
     },
     "execution_count": 17,
     "metadata": {},
     "output_type": "execute_result"
    }
   ],
   "source": [
    "b"
   ]
  },
  {
   "cell_type": "code",
   "execution_count": 18,
   "metadata": {},
   "outputs": [],
   "source": [
    "l = []\n",
    "s = [1,0,0]\n",
    "q = [0,1,0]\n",
    "c = [0,0,1]\n",
    "n = [0,0,0]\n",
    "for i in range(len(train)):\n",
    "    if a[i] == 'S':\n",
    "        l.append(s)\n",
    "    elif a[i] == 'Q':\n",
    "        l.append(q)\n",
    "    elif a[i] == 'C':\n",
    "        l.append(c)\n",
    "    else:\n",
    "        l.append(n)\n",
    "    "
   ]
  },
  {
   "cell_type": "code",
   "execution_count": 19,
   "metadata": {},
   "outputs": [],
   "source": [
    "b = pd.DataFrame(l, columns=['embarked_S','embarked_Q','embarked_C'])"
   ]
  },
  {
   "cell_type": "code",
   "execution_count": 20,
   "metadata": {
    "scrolled": false
   },
   "outputs": [],
   "source": [
    "train = pd.concat([train, b], axis=1)"
   ]
  },
  {
   "cell_type": "code",
   "execution_count": 21,
   "metadata": {},
   "outputs": [
    {
     "data": {
      "text/plain": [
       "Index(['PassengerId', 'Survived', 'Pclass', 'Name', 'Sex', 'Age', 'SibSp',\n",
       "       'Parch', 'Ticket', 'Fare', 'Cabin', 'Embarked', 'Sex_num', 'embarked_S',\n",
       "       'embarked_Q', 'embarked_C'],\n",
       "      dtype='object')"
      ]
     },
     "execution_count": 21,
     "metadata": {},
     "output_type": "execute_result"
    }
   ],
   "source": [
    "train.columns"
   ]
  },
  {
   "cell_type": "code",
   "execution_count": 22,
   "metadata": {},
   "outputs": [
    {
     "data": {
      "text/plain": [
       "array([[-0.77425503,  0.15855512,  0.61269032],\n",
       "       [-0.26370252,  0.79923955, -0.54007141]])"
      ]
     },
     "execution_count": 22,
     "metadata": {},
     "output_type": "execute_result"
    }
   ],
   "source": [
    "x = train.loc[:,['embarked_S','embarked_Q', 'embarked_C']]\n",
    "\n",
    "pca.fit(x,y)\n",
    "pca.components_\n"
   ]
  },
  {
   "cell_type": "code",
   "execution_count": 23,
   "metadata": {},
   "outputs": [
    {
     "name": "stdout",
     "output_type": "stream",
     "text": [
      "\n"
     ]
    },
    {
     "data": {
      "image/png": "[encoded data removed]",
      "text/plain": [
       "<Figure size 432x288 with 2 Axes>"
      ]
     },
     "metadata": {
      "needs_background": "light"
     },
     "output_type": "display_data"
    }
   ],
   "source": [
    "plt.matshow(pca.components_, interpolation='none', cmap='autumn',\n",
    "            vmin=pca.components_.min(), vmax=pca.components_.max())\n",
    "plt.yticks([0,1],['PCA1','PCA2'])\n",
    "plt.colorbar()\n",
    "plt.xticks(range(5), x, rotation=60)\n",
    "print('')"
   ]
  },
  {
   "cell_type": "code",
   "execution_count": 24,
   "metadata": {},
   "outputs": [
    {
     "data": {
      "text/plain": [
       "array([[1.        , 0.16824043],\n",
       "       [0.16824043, 1.        ]])"
      ]
     },
     "execution_count": 24,
     "metadata": {},
     "output_type": "execute_result"
    }
   ],
   "source": [
    "x = train['embarked_C']\n",
    "np.corrcoef(x,y)"
   ]
  },
  {
   "cell_type": "code",
   "execution_count": 25,
   "metadata": {},
   "outputs": [
    {
     "data": {
      "text/plain": [
       "{'B96 B98': 4,\n",
       " 'C23 C25 C27': 4,\n",
       " 'G6': 4,\n",
       " 'C22 C26': 3,\n",
       " 'E101': 3,\n",
       " 'F2': 3,\n",
       " 'F33': 3,\n",
       " 'D': 3,\n",
       " 'C52': 2,\n",
       " 'D17': 2,\n",
       " 'C2': 2,\n",
       " 'C93': 2,\n",
       " 'B20': 2,\n",
       " 'C83': 2,\n",
       " 'D20': 2,\n",
       " 'E67': 2,\n",
       " 'F G73': 2,\n",
       " 'B18': 2,\n",
       " 'E33': 2,\n",
       " 'E44': 2,\n",
       " 'C125': 2,\n",
       " 'B51 B53 B55': 2,\n",
       " 'B58 B60': 2,\n",
       " 'E24': 2,\n",
       " 'B22': 2,\n",
       " 'D33': 2,\n",
       " 'C123': 2,\n",
       " 'C78': 2,\n",
       " 'C68': 2,\n",
       " 'B57 B59 B63 B66': 2,\n",
       " 'D35': 2,\n",
       " 'B28': 2,\n",
       " 'B77': 2,\n",
       " 'C126': 2,\n",
       " 'E8': 2,\n",
       " 'C65': 2,\n",
       " 'F4': 2,\n",
       " 'E121': 2,\n",
       " 'B5': 2,\n",
       " 'B35': 2,\n",
       " 'E25': 2,\n",
       " 'D36': 2,\n",
       " 'B49': 2,\n",
       " 'D26': 2,\n",
       " 'C124': 2,\n",
       " 'C92': 2,\n",
       " 'C90': 1,\n",
       " 'B71': 1,\n",
       " 'A34': 1,\n",
       " 'E31': 1,\n",
       " 'E58': 1,\n",
       " 'C70': 1,\n",
       " 'E34': 1,\n",
       " 'D15': 1,\n",
       " 'C47': 1,\n",
       " 'C95': 1,\n",
       " 'E49': 1,\n",
       " 'A19': 1,\n",
       " 'B19': 1,\n",
       " 'C87': 1,\n",
       " 'A10': 1,\n",
       " 'B73': 1,\n",
       " 'C62 C64': 1,\n",
       " 'C148': 1,\n",
       " 'C54': 1,\n",
       " 'D46': 1,\n",
       " 'B94': 1,\n",
       " 'C101': 1,\n",
       " 'C50': 1,\n",
       " 'B41': 1,\n",
       " 'D7': 1,\n",
       " 'A31': 1,\n",
       " 'A23': 1,\n",
       " 'B38': 1,\n",
       " 'D56': 1,\n",
       " 'C128': 1,\n",
       " 'E50': 1,\n",
       " 'E40': 1,\n",
       " 'D6': 1,\n",
       " 'F G63': 1,\n",
       " 'C49': 1,\n",
       " 'E63': 1,\n",
       " 'B42': 1,\n",
       " 'A36': 1,\n",
       " 'D28': 1,\n",
       " 'B4': 1,\n",
       " 'E17': 1,\n",
       " 'A26': 1,\n",
       " 'D49': 1,\n",
       " 'E12': 1,\n",
       " 'D50': 1,\n",
       " 'B30': 1,\n",
       " 'C7': 1,\n",
       " 'B102': 1,\n",
       " 'A6': 1,\n",
       " 'E68': 1,\n",
       " 'B3': 1,\n",
       " 'B80': 1,\n",
       " 'C91': 1,\n",
       " 'B39': 1,\n",
       " 'C104': 1,\n",
       " 'D11': 1,\n",
       " 'D47': 1,\n",
       " 'B86': 1,\n",
       " 'E46': 1,\n",
       " 'C30': 1,\n",
       " 'B82 B84': 1,\n",
       " 'A14': 1,\n",
       " 'D19': 1,\n",
       " 'B101': 1,\n",
       " 'F38': 1,\n",
       " 'B69': 1,\n",
       " 'A16': 1,\n",
       " 'D48': 1,\n",
       " 'T': 1,\n",
       " 'A32': 1,\n",
       " 'E77': 1,\n",
       " 'C99': 1,\n",
       " 'D37': 1,\n",
       " 'B78': 1,\n",
       " 'C103': 1,\n",
       " 'C111': 1,\n",
       " 'C106': 1,\n",
       " 'A5': 1,\n",
       " 'D10 D12': 1,\n",
       " 'C118': 1,\n",
       " 'A24': 1,\n",
       " 'C85': 1,\n",
       " 'C45': 1,\n",
       " 'D21': 1,\n",
       " 'A7': 1,\n",
       " 'B79': 1,\n",
       " 'C46': 1,\n",
       " 'A20': 1,\n",
       " 'E10': 1,\n",
       " 'B37': 1,\n",
       " 'C82': 1,\n",
       " 'E36': 1,\n",
       " 'D30': 1,\n",
       " 'C32': 1,\n",
       " 'C86': 1,\n",
       " 'F E69': 1,\n",
       " 'E38': 1,\n",
       " 'D45': 1,\n",
       " 'D9': 1,\n",
       " 'C110': 1,\n",
       " 'B50': 1}"
      ]
     },
     "execution_count": 25,
     "metadata": {},
     "output_type": "execute_result"
    }
   ],
   "source": [
    "train.Cabin.value_counts().to_dict()"
   ]
  },
  {
   "cell_type": "code",
   "execution_count": 26,
   "metadata": {},
   "outputs": [],
   "source": [
    "a = train.Cabin.copy()"
   ]
  },
  {
   "cell_type": "code",
   "execution_count": 27,
   "metadata": {},
   "outputs": [],
   "source": [
    "a = a.fillna(0)"
   ]
  },
  {
   "cell_type": "code",
   "execution_count": 28,
   "metadata": {},
   "outputs": [],
   "source": [
    "l1=[]\n",
    "l2=[]\n",
    "for i in range(len(train.Cabin)):\n",
    "    if type(a[i]) == str:\n",
    "        l1.append(a[i][0])\n",
    "        l2.append(a[i][1:])\n",
    "    elif type(a[i]) == int:\n",
    "        l1.append(0)\n",
    "        l2.append(0)\n"
   ]
  },
  {
   "cell_type": "code",
   "execution_count": 29,
   "metadata": {},
   "outputs": [
    {
     "data": {
      "text/plain": [
       "array(['0', 'A', 'B', 'C', 'D', 'E', 'F', 'G', 'T'], dtype='<U11')"
      ]
     },
     "execution_count": 29,
     "metadata": {},
     "output_type": "execute_result"
    }
   ],
   "source": [
    "# 가정 : 알파벳이 선실의 구역을 뜻하는 거라면, 구역이 생존자 수와 관련 있을까?\n",
    "np.unique(l1)\n"
   ]
  },
  {
   "cell_type": "code",
   "execution_count": 30,
   "metadata": {},
   "outputs": [],
   "source": [
    "v = pd.DataFrame(l1, columns=['cabinloc']).astype(str)\n",
    "y = pd.DataFrame(y)\n",
    "\n",
    "vy = pd.concat([v,y], axis=1)"
   ]
  },
  {
   "cell_type": "code",
   "execution_count": 31,
   "metadata": {},
   "outputs": [],
   "source": [
    "# 아래는\n",
    "# cabinloc 에서 0이 아닌 값(=각 알파벳을 value로 갖고 있는 값.) 과 y column에서 1(='생존자'임를 의미)\n",
    "# 동시에 충족하는 idx를 구하는 과정. (idx는 승객id가 될 것이다.)\n",
    "b = []\n",
    "c = []\n",
    "for i in range(len(train)):\n",
    "    if vy.cabinloc[i] != '0' and vy.Survived[i] == 1:\n",
    "        b.append(i)\n",
    "    elif vy.cabinloc[i] == '0' and vy.Survived[i] ==1:\n",
    "        c.append(i)\n",
    "        "
   ]
  },
  {
   "cell_type": "code",
   "execution_count": 32,
   "metadata": {},
   "outputs": [
    {
     "data": {
      "text/plain": [
       "206"
      ]
     },
     "execution_count": 32,
     "metadata": {},
     "output_type": "execute_result"
    }
   ],
   "source": [
    "len(c)"
   ]
  },
  {
   "cell_type": "code",
   "execution_count": 33,
   "metadata": {},
   "outputs": [
    {
     "name": "stdout",
     "output_type": "stream",
     "text": [
      "총 생존자: 342\n",
      "총 사망자: 549\n",
      "선실 사용한 사람: 204\n",
      "선실 사용하지 않은 사람: 687\n",
      "선실 사용한 생존자: 136\n",
      "선실 사용한 사망자: 68\n",
      "선실 사용하지 않은 생존자: 206\n",
      "선실 사용하지 않은 사망자: 481\n"
     ]
    }
   ],
   "source": [
    "# 선실을 사용한 승객 중에 생존한 사람 수\n",
    "print(\"총 생존자:\", 342)\n",
    "print('총 사망자:', len(train)-342)\n",
    "print(\"선실 사용한 사람:\", 204)\n",
    "print(\"선실 사용하지 않은 사람:\", len(train)-204)\n",
    "print(\"선실 사용한 생존자:\",len(b))\n",
    "print(\"선실 사용한 사망자:\",204 - len(b))\n",
    "print(\"선실 사용하지 않은 생존자:\", len(c))\n",
    "print('선실 사용하지 않은 사망자:', 687- len(c))"
   ]
  },
  {
   "cell_type": "code",
   "execution_count": 34,
   "metadata": {},
   "outputs": [
    {
     "name": "stdout",
     "output_type": "stream",
     "text": [
      "0.6666666666666666 0.29985443959243085\n"
     ]
    }
   ],
   "source": [
    "#선실 사용한 사람 중에 생존자, 선실사용하지 않은 사람 중에 생존자 비즁\n",
    "print(136/204, 206/687)\n",
    "\n",
    "# 중간결과 : 생존자 중에 선실 사용자가 많다. "
   ]
  },
  {
   "cell_type": "code",
   "execution_count": 35,
   "metadata": {},
   "outputs": [
    {
     "data": {
      "text/plain": [
       "204"
      ]
     },
     "execution_count": 35,
     "metadata": {},
     "output_type": "execute_result"
    }
   ],
   "source": [
    "# 선실을 사용한 승객 수\n",
    "train.Cabin.value_counts().sum()"
   ]
  },
  {
   "cell_type": "code",
   "execution_count": 36,
   "metadata": {},
   "outputs": [],
   "source": [
    "np.unique(l1)\n",
    "canbin = ['0', 'A', 'B', 'C', 'D', 'E', 'F', 'G', 'T']"
   ]
  },
  {
   "cell_type": "code",
   "execution_count": 37,
   "metadata": {},
   "outputs": [],
   "source": [
    "#선실 구역과 생존자 수의 관계\n",
    "c=[]\n",
    "b=[]\n",
    "d=[]\n",
    "e=[]\n",
    "a=[]\n",
    "f=[]\n",
    "g=[]\n",
    "t=[]\n",
    "for i in range(len(train)):\n",
    "    if vy.cabinloc[i] == 'C' and vy.Survived[i] == 1:\n",
    "        c.append(i)\n",
    "    elif vy.cabinloc[i] == 'B' and vy.Survived[i] ==1:\n",
    "        b.append(i)\n",
    "    elif vy.cabinloc[i] == 'D' and vy.Survived[i] ==1:\n",
    "        d.append(i)\n",
    "    elif vy.cabinloc[i] == 'E' and vy.Survived[i] ==1:\n",
    "        e.append(i)\n",
    "    elif vy.cabinloc[i] == 'A' and vy.Survived[i] ==1:\n",
    "        a.append(i)\n",
    "    elif vy.cabinloc[i] == 'F' and vy.Survived[i] ==1:\n",
    "        f.append(i)\n",
    "    elif vy.cabinloc[i] == 'G' and vy.Survived[i] ==1:\n",
    "        g.append(i)\n",
    "    elif vy.cabinloc[i] == 'T' and vy.Survived[i] ==1:\n",
    "        t.append(i)"
   ]
  },
  {
   "cell_type": "code",
   "execution_count": 38,
   "metadata": {},
   "outputs": [
    {
     "name": "stdout",
     "output_type": "stream",
     "text": [
      "c 35\n",
      "b 35\n",
      "d 25\n",
      "e 24\n",
      "f 8\n",
      "g 2\n",
      "a 7\n",
      "t 0\n"
     ]
    }
   ],
   "source": [
    "print(\"c\",len(c))\n",
    "print(\"b\",len(b))\n",
    "print(\"d\",len(d))\n",
    "print(\"e\",len(e))\n",
    "print(\"f\",len(f))\n",
    "print(\"g\",len(g))\n",
    "print(\"a\",len(a))\n",
    "print(\"t\",len(t))"
   ]
  },
  {
   "cell_type": "code",
   "execution_count": 39,
   "metadata": {},
   "outputs": [
    {
     "data": {
      "text/plain": [
       "{'0': 687,\n",
       " 'C': 59,\n",
       " 'B': 47,\n",
       " 'D': 33,\n",
       " 'E': 32,\n",
       " 'A': 15,\n",
       " 'F': 13,\n",
       " 'G': 4,\n",
       " 'T': 1}"
      ]
     },
     "execution_count": 39,
     "metadata": {},
     "output_type": "execute_result"
    }
   ],
   "source": [
    "vy.iloc[:,0].value_counts().to_dict()"
   ]
  },
  {
   "cell_type": "code",
   "execution_count": 40,
   "metadata": {},
   "outputs": [
    {
     "name": "stdout",
     "output_type": "stream",
     "text": [
      "c/C 0.5932203389830508\n",
      "b/B 0.7446808510638298\n",
      "d/D 0.7575757575757576\n",
      "e/E 0.75\n",
      "a/A 0.4666666666666667\n",
      "f/F 0.6153846153846154\n",
      "g/G 0.5\n",
      "t/T 0.0\n"
     ]
    }
   ],
   "source": [
    "print(\"c/C\",35/59)\n",
    "print(\"b/B\",35/47)\n",
    "print(\"d/D\",25/33)\n",
    "print(\"e/E\",24/32)\n",
    "print(\"a/A\",7/15)\n",
    "print(\"f/F\",8/13)\n",
    "print(\"g/G\",2/4)\n",
    "print(\"t/T\",0/1)"
   ]
  },
  {
   "cell_type": "code",
   "execution_count": 41,
   "metadata": {},
   "outputs": [],
   "source": [
    "# 중간 결과 B,D,E의 선실 사용자가 75%정도 생존했다. \n",
    "# 선실 구역마다 생존 비율이 조금씩 차이가 있다.\n",
    "# 생존자 중에 선실 사용자의 비율은 60%가량 되는데, A,T,G 구역이 60%보다 낮아서 다른 구역보다\n",
    "# 생존에 영향을 미치는 정도가 낮다.\n",
    "# T,G는 이상치. 선실 갯수가 너무 적다.\n",
    "\n",
    "# 구역과 생존에 관계가 있다.\n"
   ]
  },
  {
   "cell_type": "code",
   "execution_count": 42,
   "metadata": {},
   "outputs": [],
   "source": [
    "#선실 구역과 생존자 수의 관계\n",
    "c=[]\n",
    "b=[]\n",
    "d=[]\n",
    "e=[]\n",
    "a=[]\n",
    "f=[]\n",
    "g=[]\n",
    "t=[]\n",
    "\n",
    "for i in range(len(train)):\n",
    "    if vy.cabinloc[i] == 'C':\n",
    "        c.append(1)\n",
    "    elif vy.cabinloc[i] != 'C':\n",
    "        c.append(0)\n",
    "    if vy.cabinloc[i] == 'B': \n",
    "        b.append(1)\n",
    "    elif vy.cabinloc[i] != 'B': \n",
    "        b.append(0)    \n",
    "    if vy.cabinloc[i] == 'D': \n",
    "        d.append(1)\n",
    "    elif vy.cabinloc[i] != 'D': \n",
    "        d.append(0)        \n",
    "    if vy.cabinloc[i] == 'E':\n",
    "        e.append(1)\n",
    "    elif vy.cabinloc[i] != 'E':\n",
    "        e.append(0)\n",
    "    if vy.cabinloc[i] == 'A':\n",
    "        a.append(1)\n",
    "    elif vy.cabinloc[i] != 'A':\n",
    "        a.append(0)\n",
    "    if vy.cabinloc[i] == 'F':\n",
    "        f.append(1)\n",
    "    elif vy.cabinloc[i] != 'F':\n",
    "        f.append(0)\n",
    "    if vy.cabinloc[i] == 'G':\n",
    "        g.append(1)\n",
    "    elif vy.cabinloc[i] != 'G':\n",
    "        g.append(0)\n",
    "    if vy.cabinloc[i] == 'T':\n",
    "        t.append(1)\n",
    "    elif vy.cabinloc[i] != 'T':\n",
    "        t.append(0)"
   ]
  },
  {
   "cell_type": "code",
   "execution_count": 43,
   "metadata": {},
   "outputs": [
    {
     "data": {
      "text/plain": [
       "'0'"
      ]
     },
     "execution_count": 43,
     "metadata": {},
     "output_type": "execute_result"
    }
   ],
   "source": [
    "vy.cabinloc[0]"
   ]
  },
  {
   "cell_type": "code",
   "execution_count": 44,
   "metadata": {},
   "outputs": [
    {
     "data": {
      "text/plain": [
       "47"
      ]
     },
     "execution_count": 44,
     "metadata": {},
     "output_type": "execute_result"
    }
   ],
   "source": [
    "sum(b)"
   ]
  },
  {
   "cell_type": "code",
   "execution_count": 54,
   "metadata": {},
   "outputs": [],
   "source": [
    "train['cabinC'] = c\n",
    "train['cabinD'] = d\n",
    "train['cabinE'] = e\n",
    "train['cabinB'] = b\n",
    "train['cabinA'] = a\n",
    "train['cabinG'] = g\n",
    "train['cabinT'] = t\n",
    "train['cabinF'] = f"
   ]
  },
  {
   "cell_type": "code",
   "execution_count": 46,
   "metadata": {},
   "outputs": [
    {
     "name": "stdout",
     "output_type": "stream",
     "text": [
      "<class 'pandas.core.frame.DataFrame'>\n",
      "RangeIndex: 891 entries, 0 to 890\n",
      "Data columns (total 17 columns):\n",
      "PassengerId    891 non-null int64\n",
      "Survived       891 non-null int64\n",
      "Pclass         891 non-null int64\n",
      "Name           891 non-null object\n",
      "Sex            891 non-null object\n",
      "Age            714 non-null float64\n",
      "SibSp          891 non-null int64\n",
      "Parch          891 non-null int64\n",
      "Ticket         891 non-null object\n",
      "Fare           891 non-null float64\n",
      "Cabin          204 non-null object\n",
      "Embarked       889 non-null object\n",
      "Sex_num        891 non-null int64\n",
      "embarked_S     891 non-null int64\n",
      "embarked_Q     891 non-null int64\n",
      "embarked_C     891 non-null int64\n",
      "cabinT         891 non-null int64\n",
      "dtypes: float64(2), int64(10), object(5)\n",
      "memory usage: 118.4+ KB\n"
     ]
    }
   ],
   "source": [
    "train.info()"
   ]
  },
  {
   "cell_type": "code",
   "execution_count": 47,
   "metadata": {},
   "outputs": [],
   "source": [
    "train.Age = train.Age.fillna(29)"
   ]
  },
  {
   "cell_type": "code",
   "execution_count": 48,
   "metadata": {},
   "outputs": [
    {
     "data": {
      "text/html": [
       "<div>\n",
       "<style scoped>\n",
       "    .dataframe tbody tr th:only-of-type {\n",
       "        vertical-align: middle;\n",
       "    }\n",
       "\n",
       "    .dataframe tbody tr th {\n",
       "        vertical-align: top;\n",
       "    }\n",
       "\n",
       "    .dataframe thead th {\n",
       "        text-align: right;\n",
       "    }\n",
       "</style>\n",
       "<table border=\"1\" class=\"dataframe\">\n",
       "  <thead>\n",
       "    <tr style=\"text-align: right;\">\n",
       "      <th></th>\n",
       "      <th>PassengerId</th>\n",
       "      <th>Survived</th>\n",
       "      <th>Pclass</th>\n",
       "      <th>Age</th>\n",
       "      <th>SibSp</th>\n",
       "      <th>Parch</th>\n",
       "      <th>Fare</th>\n",
       "      <th>Sex_num</th>\n",
       "      <th>embarked_S</th>\n",
       "      <th>embarked_Q</th>\n",
       "      <th>embarked_C</th>\n",
       "      <th>cabinT</th>\n",
       "    </tr>\n",
       "  </thead>\n",
       "  <tbody>\n",
       "    <tr>\n",
       "      <th>count</th>\n",
       "      <td>891.000000</td>\n",
       "      <td>891.000000</td>\n",
       "      <td>891.000000</td>\n",
       "      <td>891.000000</td>\n",
       "      <td>891.000000</td>\n",
       "      <td>891.000000</td>\n",
       "      <td>891.000000</td>\n",
       "      <td>891.000000</td>\n",
       "      <td>891.000000</td>\n",
       "      <td>891.000000</td>\n",
       "      <td>891.000000</td>\n",
       "      <td>891.000000</td>\n",
       "    </tr>\n",
       "    <tr>\n",
       "      <th>mean</th>\n",
       "      <td>446.000000</td>\n",
       "      <td>0.383838</td>\n",
       "      <td>2.308642</td>\n",
       "      <td>29.560236</td>\n",
       "      <td>0.523008</td>\n",
       "      <td>0.381594</td>\n",
       "      <td>32.204208</td>\n",
       "      <td>0.352413</td>\n",
       "      <td>0.722783</td>\n",
       "      <td>0.086420</td>\n",
       "      <td>0.188552</td>\n",
       "      <td>0.001122</td>\n",
       "    </tr>\n",
       "    <tr>\n",
       "      <th>std</th>\n",
       "      <td>257.353842</td>\n",
       "      <td>0.486592</td>\n",
       "      <td>0.836071</td>\n",
       "      <td>13.005010</td>\n",
       "      <td>1.102743</td>\n",
       "      <td>0.806057</td>\n",
       "      <td>49.693429</td>\n",
       "      <td>0.477990</td>\n",
       "      <td>0.447876</td>\n",
       "      <td>0.281141</td>\n",
       "      <td>0.391372</td>\n",
       "      <td>0.033501</td>\n",
       "    </tr>\n",
       "    <tr>\n",
       "      <th>min</th>\n",
       "      <td>1.000000</td>\n",
       "      <td>0.000000</td>\n",
       "      <td>1.000000</td>\n",
       "      <td>0.420000</td>\n",
       "      <td>0.000000</td>\n",
       "      <td>0.000000</td>\n",
       "      <td>0.000000</td>\n",
       "      <td>0.000000</td>\n",
       "      <td>0.000000</td>\n",
       "      <td>0.000000</td>\n",
       "      <td>0.000000</td>\n",
       "      <td>0.000000</td>\n",
       "    </tr>\n",
       "    <tr>\n",
       "      <th>25%</th>\n",
       "      <td>223.500000</td>\n",
       "      <td>0.000000</td>\n",
       "      <td>2.000000</td>\n",
       "      <td>22.000000</td>\n",
       "      <td>0.000000</td>\n",
       "      <td>0.000000</td>\n",
       "      <td>7.910400</td>\n",
       "      <td>0.000000</td>\n",
       "      <td>0.000000</td>\n",
       "      <td>0.000000</td>\n",
       "      <td>0.000000</td>\n",
       "      <td>0.000000</td>\n",
       "    </tr>\n",
       "    <tr>\n",
       "      <th>50%</th>\n",
       "      <td>446.000000</td>\n",
       "      <td>0.000000</td>\n",
       "      <td>3.000000</td>\n",
       "      <td>29.000000</td>\n",
       "      <td>0.000000</td>\n",
       "      <td>0.000000</td>\n",
       "      <td>14.454200</td>\n",
       "      <td>0.000000</td>\n",
       "      <td>1.000000</td>\n",
       "      <td>0.000000</td>\n",
       "      <td>0.000000</td>\n",
       "      <td>0.000000</td>\n",
       "    </tr>\n",
       "    <tr>\n",
       "      <th>75%</th>\n",
       "      <td>668.500000</td>\n",
       "      <td>1.000000</td>\n",
       "      <td>3.000000</td>\n",
       "      <td>35.000000</td>\n",
       "      <td>1.000000</td>\n",
       "      <td>0.000000</td>\n",
       "      <td>31.000000</td>\n",
       "      <td>1.000000</td>\n",
       "      <td>1.000000</td>\n",
       "      <td>0.000000</td>\n",
       "      <td>0.000000</td>\n",
       "      <td>0.000000</td>\n",
       "    </tr>\n",
       "    <tr>\n",
       "      <th>max</th>\n",
       "      <td>891.000000</td>\n",
       "      <td>1.000000</td>\n",
       "      <td>3.000000</td>\n",
       "      <td>80.000000</td>\n",
       "      <td>8.000000</td>\n",
       "      <td>6.000000</td>\n",
       "      <td>512.329200</td>\n",
       "      <td>1.000000</td>\n",
       "      <td>1.000000</td>\n",
       "      <td>1.000000</td>\n",
       "      <td>1.000000</td>\n",
       "      <td>1.000000</td>\n",
       "    </tr>\n",
       "  </tbody>\n",
       "</table>\n",
       "</div>"
      ],
      "text/plain": [
       "       PassengerId    Survived      Pclass         Age       SibSp  \\\n",
       "count   891.000000  891.000000  891.000000  891.000000  891.000000   \n",
       "mean    446.000000    0.383838    2.308642   29.560236    0.523008   \n",
       "std     257.353842    0.486592    0.836071   13.005010    1.102743   \n",
       "min       1.000000    0.000000    1.000000    0.420000    0.000000   \n",
       "25%     223.500000    0.000000    2.000000   22.000000    0.000000   \n",
       "50%     446.000000    0.000000    3.000000   29.000000    0.000000   \n",
       "75%     668.500000    1.000000    3.000000   35.000000    1.000000   \n",
       "max     891.000000    1.000000    3.000000   80.000000    8.000000   \n",
       "\n",
       "            Parch        Fare     Sex_num  embarked_S  embarked_Q  embarked_C  \\\n",
       "count  891.000000  891.000000  891.000000  891.000000  891.000000  891.000000   \n",
       "mean     0.381594   32.204208    0.352413    0.722783    0.086420    0.188552   \n",
       "std      0.806057   49.693429    0.477990    0.447876    0.281141    0.391372   \n",
       "min      0.000000    0.000000    0.000000    0.000000    0.000000    0.000000   \n",
       "25%      0.000000    7.910400    0.000000    0.000000    0.000000    0.000000   \n",
       "50%      0.000000   14.454200    0.000000    1.000000    0.000000    0.000000   \n",
       "75%      0.000000   31.000000    1.000000    1.000000    0.000000    0.000000   \n",
       "max      6.000000  512.329200    1.000000    1.000000    1.000000    1.000000   \n",
       "\n",
       "           cabinT  \n",
       "count  891.000000  \n",
       "mean     0.001122  \n",
       "std      0.033501  \n",
       "min      0.000000  \n",
       "25%      0.000000  \n",
       "50%      0.000000  \n",
       "75%      0.000000  \n",
       "max      1.000000  "
      ]
     },
     "execution_count": 48,
     "metadata": {},
     "output_type": "execute_result"
    }
   ],
   "source": [
    "train.describe()"
   ]
  },
  {
   "cell_type": "code",
   "execution_count": 55,
   "metadata": {},
   "outputs": [],
   "source": [
    "#훈련 시키기.\n",
    "# 테스트, 훈련 셋 나누기\n",
    "\n",
    "from sklearn.model_selection import train_test_split\n",
    "\n",
    "\n",
    "X = train.loc[:,['Pclass','Fare','Sex_num','Age',\n",
    "            'SibSp', 'Parch', 'embarked_S', 'embarked_Q',\n",
    "            'embarked_C', 'cabinC','cabinB','cabinE','cabinD',\n",
    "            'cabinA','cabinF','cabinG','cabinT']]\n",
    "y\n",
    "\n",
    "X_train, X_test, y_train, y_test = train_test_split(X, y, random_state = 0)"
   ]
  },
  {
   "cell_type": "code",
   "execution_count": 75,
   "metadata": {},
   "outputs": [
    {
     "data": {
      "text/plain": [
       "0.3618020299134703"
      ]
     },
     "execution_count": 75,
     "metadata": {},
     "output_type": "execute_result"
    }
   ],
   "source": [
    "# 모델 정의\n",
    "from sklearn.linear_model import LinearRegression\n",
    "lr = LinearRegression(normalize = True)\n",
    "lr.fit(norm_X_train, y_train)\n",
    "y_pred = lr.predict(X_test)\n",
    "lr.score(norm_X_train, y_train)"
   ]
  },
  {
   "cell_type": "code",
   "execution_count": null,
   "metadata": {},
   "outputs": [],
   "source": [
    "y_pred[:10], y[:10]"
   ]
  },
  {
   "cell_type": "code",
   "execution_count": 59,
   "metadata": {},
   "outputs": [],
   "source": [
    "from sklearn.preprocessing import Normalizer\n",
    "norm = Normalizer().fit(X)\n",
    "norm_X = norm.transform(X)"
   ]
  },
  {
   "cell_type": "code",
   "execution_count": 60,
   "metadata": {
    "collapsed": true
   },
   "outputs": [
    {
     "data": {
      "text/plain": [
       "(array([[-0.07514968],\n",
       "        [ 0.71152691],\n",
       "        [ 0.56551237],\n",
       "        [ 0.69647361],\n",
       "        [ 0.08480903],\n",
       "        [ 0.15208605],\n",
       "        [ 0.56486686],\n",
       "        [ 0.04008764],\n",
       "        [ 0.51461002],\n",
       "        [ 0.89138146]]),      Survived\n",
       " 495         0\n",
       " 648         0\n",
       " 278         0\n",
       " 31          1\n",
       " 255         1\n",
       " 298         1\n",
       " 609         1\n",
       " 318         1\n",
       " 484         1\n",
       " 367         1)"
      ]
     },
     "execution_count": 60,
     "metadata": {},
     "output_type": "execute_result"
    }
   ],
   "source": [
    "norm_X_train, norm_X_test, y_train, y_test = train_test_split(norm_X, y, random_state = 0\n",
    "                                                             )\n"
   ]
  },
  {
   "cell_type": "code",
   "execution_count": 86,
   "metadata": {},
   "outputs": [
    {
     "name": "stderr",
     "output_type": "stream",
     "text": [
      "c:\\users\\ajy\\appdata\\local\\programs\\python\\python36\\lib\\site-packages\\sklearn\\linear_model\\logistic.py:433: FutureWarning: Default solver will be changed to 'lbfgs' in 0.22. Specify a solver to silence this warning.\n",
      "  FutureWarning)\n",
      "c:\\users\\ajy\\appdata\\local\\programs\\python\\python36\\lib\\site-packages\\sklearn\\utils\\validation.py:761: DataConversionWarning: A column-vector y was passed when a 1d array was expected. Please change the shape of y to (n_samples, ), for example using ravel().\n",
      "  y = column_or_1d(y, warn=True)\n"
     ]
    },
    {
     "data": {
      "text/plain": [
       "0.7889221556886228"
      ]
     },
     "execution_count": 86,
     "metadata": {},
     "output_type": "execute_result"
    }
   ],
   "source": [
    "from sklearn.linear_model import LogisticRegression\n",
    "logr= LogisticRegression(C=90)\n",
    "logr.fit(norm_X_train,y_train)\n",
    "pred_y = logr.predict(norm_X_test)\n",
    "logr.score(norm_X_train, y_train)"
   ]
  },
  {
   "cell_type": "code",
   "execution_count": 87,
   "metadata": {},
   "outputs": [
    {
     "data": {
      "text/plain": [
       "0.7937219730941704"
      ]
     },
     "execution_count": 87,
     "metadata": {},
     "output_type": "execute_result"
    }
   ],
   "source": [
    "logr.score(norm_X_test, y_test)"
   ]
  },
  {
   "cell_type": "code",
   "execution_count": 130,
   "metadata": {},
   "outputs": [
    {
     "name": "stdout",
     "output_type": "stream",
     "text": [
      "0.9820359281437125\n",
      "0.7802690582959642\n"
     ]
    },
    {
     "name": "stderr",
     "output_type": "stream",
     "text": [
      "c:\\users\\ajy\\appdata\\local\\programs\\python\\python36\\lib\\site-packages\\ipykernel_launcher.py:4: DataConversionWarning: A column-vector y was passed when a 1d array was expected. Please change the shape of y to (n_samples, ), for example using ravel().\n",
      "  after removing the cwd from sys.path.\n"
     ]
    }
   ],
   "source": [
    "from sklearn.neighbors import KNeighborsClassifier\n",
    "\n",
    "kn = KNeighborsClassifier(1)\n",
    "kn.fit(norm_X_train, y_train)\n",
    "\n",
    "print(kn.score(norm_X_train, y_train))\n",
    "print(kn.score(norm_X_test, y_test))"
   ]
  },
  {
   "cell_type": "code",
   "execution_count": 156,
   "metadata": {},
   "outputs": [
    {
     "data": {
      "text/plain": [
       "0.844311377245509"
      ]
     },
     "metadata": {},
     "output_type": "display_data"
    },
    {
     "data": {
      "text/plain": [
       "0.820627802690583"
      ]
     },
     "metadata": {},
     "output_type": "display_data"
    }
   ],
   "source": [
    "from sklearn.tree import DecisionTreeClassifier\n",
    "tree = DecisionTreeClassifier(max_depth = 4)\n",
    "tree.fit(X_train, y_train)\n",
    "display(\n",
    "tree.score(X_train, y_train), tree.score(X_test, y_test) \n",
    ")"
   ]
  },
  {
   "cell_type": "code",
   "execution_count": 136,
   "metadata": {},
   "outputs": [
    {
     "data": {
      "text/plain": [
       "DecisionTreeClassifier(class_weight=None, criterion='gini', max_depth=None,\n",
       "            max_features=None, max_leaf_nodes=None,\n",
       "            min_impurity_decrease=0.0, min_impurity_split=None,\n",
       "            min_samples_leaf=1, min_samples_split=2,\n",
       "            min_weight_fraction_leaf=0.0, presort=False, random_state=None,\n",
       "            splitter='best')"
      ]
     },
     "execution_count": 136,
     "metadata": {},
     "output_type": "execute_result"
    }
   ],
   "source": [
    "tree"
   ]
  },
  {
   "cell_type": "code",
   "execution_count": 267,
   "metadata": {},
   "outputs": [
    {
     "name": "stderr",
     "output_type": "stream",
     "text": [
      "c:\\users\\ajy\\appdata\\local\\programs\\python\\python36\\lib\\site-packages\\ipykernel_launcher.py:4: DataConversionWarning: A column-vector y was passed when a 1d array was expected. Please change the shape of y to (n_samples,), for example using ravel().\n",
      "  after removing the cwd from sys.path.\n"
     ]
    },
    {
     "data": {
      "text/plain": [
       "0.8592814371257484"
      ]
     },
     "metadata": {},
     "output_type": "display_data"
    },
    {
     "data": {
      "text/plain": [
       "0.8295964125560538"
      ]
     },
     "metadata": {},
     "output_type": "display_data"
    }
   ],
   "source": [
    "from sklearn.ensemble import RandomForestClassifier\n",
    "rtree = RandomForestClassifier(max_depth = 6,min_samples_leaf=2, min_samples_split=6,\n",
    "                              n_estimators=20)\n",
    "rtree.fit(X_train,y_train)\n",
    "display(\n",
    "rtree.score(X_train, y_train), rtree.score(X_test, y_test) \n",
    ")"
   ]
  },
  {
   "cell_type": "code",
   "execution_count": 283,
   "metadata": {},
   "outputs": [
    {
     "name": "stderr",
     "output_type": "stream",
     "text": [
      "c:\\users\\ajy\\appdata\\local\\programs\\python\\python36\\lib\\site-packages\\sklearn\\utils\\validation.py:761: DataConversionWarning: A column-vector y was passed when a 1d array was expected. Please change the shape of y to (n_samples, ), for example using ravel().\n",
      "  y = column_or_1d(y, warn=True)\n",
      "c:\\users\\ajy\\appdata\\local\\programs\\python\\python36\\lib\\site-packages\\sklearn\\svm\\base.py:931: ConvergenceWarning: Liblinear failed to converge, increase the number of iterations.\n",
      "  \"the number of iterations.\", ConvergenceWarning)\n"
     ]
    },
    {
     "data": {
      "text/plain": [
       "0.7709580838323353"
      ]
     },
     "metadata": {},
     "output_type": "display_data"
    },
    {
     "data": {
      "text/plain": [
       "0.7802690582959642"
      ]
     },
     "metadata": {},
     "output_type": "display_data"
    }
   ],
   "source": [
    "from sklearn.svm import LinearSVC\n",
    "svc = LinearSVC(C=10)\n",
    "svc.fit(X_train,y_train)\n",
    "display(\n",
    "svc.score(X_train, y_train), svc.score(X_test, y_test) \n",
    ")"
   ]
  }
 ],
 "metadata": {
  "kernelspec": {
   "display_name": "Python 3",
   "language": "python",
   "name": "python3"
  },
  "language_info": {
   "codemirror_mode": {
    "name": "ipython",
    "version": 3
   },
   "file_extension": ".py",
   "mimetype": "text/x-python",
   "name": "python",
   "nbconvert_exporter": "python",
   "pygments_lexer": "ipython3",
   "version": "3.6.6"
  }
 },
 "nbformat": 4,
 "nbformat_minor": 2
}
